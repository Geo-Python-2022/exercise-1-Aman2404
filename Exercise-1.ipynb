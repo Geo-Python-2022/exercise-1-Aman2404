{
 "cells": [
  {
   "attachments": {},
   "cell_type": "markdown",
   "metadata": {},
   "source": [
    "## Problem 1 - Defining some variables\n",
    "\n",
    "In the top cell of the new notebook:\n",
    "\n",
    "1. Create a variable called `ice_cream_rating` and use it to store an integer value (whole number) between 0 and 10 that reflects your general opinion about how much you enjoy eating ice cream.\n",
    "\n",
    "2. Create another variable called `sleeping_rating` and use it to store another integer between 0 and 10 that reflects your opinion about how much you enjoy sleeping.\n"
   ]
  },
  {
   "cell_type": "code",
   "execution_count": 30,
   "metadata": {},
   "outputs": [],
   "source": [
    "ice_cream_rating=9.5"
   ]
  },
  {
   "cell_type": "code",
   "execution_count": 31,
   "metadata": {},
   "outputs": [],
   "source": [
    "sleeping_rating=9"
   ]
  },
  {
   "attachments": {},
   "cell_type": "markdown",
   "metadata": {},
   "source": [
    "## Problem 2 - Reading in variable values\n",
    "\n",
    "In the new cell that appears:\n",
    "\n",
    "1. Use the `input()` function to prompt the user to enter their first name and store it in a variable called `first_name`.\n",
    "\n",
    "2. Use the `input()` function again to prompt the user to enter their last name and store it in a variable called `last_name`.\n",
    "\n",
    "3. (*Optional*) Define a third variable called `my_name` that will combine the user's first and last names into a single character string with a space between the names."
   ]
  },
  {
   "cell_type": "code",
   "execution_count": 17,
   "metadata": {},
   "outputs": [],
   "source": [
    "first_name=input(\"your first name :\")\n"
   ]
  },
  {
   "cell_type": "code",
   "execution_count": 18,
   "metadata": {},
   "outputs": [],
   "source": [
    "last_name=input('your last name:')"
   ]
  },
  {
   "cell_type": "code",
   "execution_count": 19,
   "metadata": {},
   "outputs": [],
   "source": [
    "my_name=first_name+ \" \"+ last_name"
   ]
  },
  {
   "cell_type": "code",
   "execution_count": 32,
   "metadata": {},
   "outputs": [
    {
     "data": {
      "text/plain": [
       "'aman vyas'"
      ]
     },
     "execution_count": 32,
     "metadata": {},
     "output_type": "execute_result"
    }
   ],
   "source": [
    "my_name"
   ]
  },
  {
   "attachments": {},
   "cell_type": "markdown",
   "metadata": {},
   "source": [
    "## Problem 3 - A bit of math\n",
    "\n",
    "In order to assess happiness it is necessary to combine the ice cream and sleeping ratings. To do this:\n",
    "\n",
    "1. Calculate the average of your `ice_cream_rating` and `sleeping_rating` variables and store the resulting value in a variable called `happiness_rating`."
   ]
  },
  {
   "cell_type": "code",
   "execution_count": 33,
   "metadata": {},
   "outputs": [],
   "source": [
    "happiness_rating= (ice_cream_rating+sleeping_rating)/2"
   ]
  },
  {
   "cell_type": "code",
   "execution_count": 34,
   "metadata": {},
   "outputs": [
    {
     "data": {
      "text/plain": [
       "9.25"
      ]
     },
     "execution_count": 34,
     "metadata": {},
     "output_type": "execute_result"
    }
   ],
   "source": [
    "happiness_rating"
   ]
  },
  {
   "attachments": {},
   "cell_type": "markdown",
   "metadata": {},
   "source": [
    "## Problem 4 - Checking data types\n",
    "\n",
    "The next step is to investigate the kinds of data we're working with. In another Python cell:\n",
    "\n",
    "1. Use a built-in Python function to check the data types of the `ice_cream_rating`, `first_name`, and `happiness_rating` variables. In order to see the data types for more than one variable in a single Python cell, you will need to print out these values using another built-in Python function.\n",
    "\n",
    "2. Run the cell by pressing **Shift-Enter**.\n",
    "\n",
    "3. Did all of the data types make sense? Were there any data types that were different than you expected? In the new Python cell that appeared after running the code above, enter your responses to the questions above.\n",
    "\n",
    "4. For the cell containing your answers to the questions above, change the kind of cell from **Code** to **Markdown**.\n",
    "\n",
    "5. Run the Markdown cell by pressing **Shift-Enter**."
   ]
  },
  {
   "cell_type": "code",
   "execution_count": 35,
   "metadata": {},
   "outputs": [
    {
     "name": "stdout",
     "output_type": "stream",
     "text": [
      "ice cream rating data type: <class 'float'>\n",
      "first_name data type: <class 'str'>\n",
      "happiness rating data type: <class 'float'>\n"
     ]
    }
   ],
   "source": [
    "print(\"ice cream rating data type:\",type(ice_cream_rating))\n",
    "print(\"first_name data type:\",type(first_name))\n",
    "print(\"happiness rating data type:\",type(happiness_rating))"
   ]
  },
  {
   "attachments": {},
   "cell_type": "markdown",
   "metadata": {},
   "source": [
    "- I think all variable data type looks fine.\n",
    "- Since my ice_cream_rating=9.5 that variable data type must be float.\n",
    "- First name data type is must be string as it's my name and it's string.\n",
    "- Happiness rating data type is also in float because it's contain average of ice cream rating and sleeping rating"
   ]
  },
  {
   "attachments": {},
   "cell_type": "markdown",
   "metadata": {},
   "source": [
    "## Problem 5 - Displaying text on the screen\n",
    "\n",
    "Finally, you can use your Python skills to generate output on the screen similar to that below. Use one command to generate each line of output.\n",
    "\n",
    "```\n",
    "My name is Dave and I give eating ice cream a score of 9 out of 10!\n",
    "I am Dave Whipp and my sleeping enjoyment rating is 8 / 10!\n",
    "Based on the factors above, my happiness rating is 8.5 out of 10, or 85.0 %!\n",
    "```\n",
    "\n",
    "Note that your code should replace “Dave” with the contents of your `first_name` variable, “9” with your value stored in the variable `ice_cream_rating`, etc. For your equivalent text with the full name (e.g., \"Dave Whipp\"), you can either use the values from the variables `first_name` and `last_name`, or the value in variable `my_name`."
   ]
  },
  {
   "cell_type": "code",
   "execution_count": 37,
   "metadata": {},
   "outputs": [
    {
     "name": "stdout",
     "output_type": "stream",
     "text": [
      "My name is aman and I give eating ice cream a score of 9.5 out of 10!\n",
      "I am aman vyas and my slepping enjoymnet rating is 9 /10!\n",
      "Based on the factors above, my happiness rating is 9.25 out of 10, or 92.5 % \n"
     ]
    }
   ],
   "source": [
    "print(f'My name is {first_name} and I give eating ice cream a score of {ice_cream_rating} out of 10!')\n",
    "print(f'I am {my_name} and my slepping enjoymnet rating is {sleeping_rating} /10!')\n",
    "print(f'Based on the factors above, my happiness rating is {happiness_rating} out of 10, or {happiness_rating*10} % ')"
   ]
  }
 ],
 "metadata": {
  "kernelspec": {
   "display_name": "yolox",
   "language": "python",
   "name": "yolox"
  },
  "language_info": {
   "codemirror_mode": {
    "name": "ipython",
    "version": 3
   },
   "file_extension": ".py",
   "mimetype": "text/x-python",
   "name": "python",
   "nbconvert_exporter": "python",
   "pygments_lexer": "ipython3",
   "version": "3.9.13"
  },
  "orig_nbformat": 4
 },
 "nbformat": 4,
 "nbformat_minor": 2
}
